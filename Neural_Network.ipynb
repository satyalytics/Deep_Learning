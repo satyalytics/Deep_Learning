{
  "nbformat": 4,
  "nbformat_minor": 0,
  "metadata": {
    "colab": {
      "name": "Neural_Network.ipynb",
      "provenance": [],
      "collapsed_sections": [],
      "authorship_tag": "ABX9TyMfk3mVZP0QyhCUoQP6uES6",
      "include_colab_link": true
    },
    "kernelspec": {
      "name": "python3",
      "display_name": "Python 3"
    }
  },
  "cells": [
    {
      "cell_type": "markdown",
      "metadata": {
        "id": "view-in-github",
        "colab_type": "text"
      },
      "source": [
        "<a href=\"https://colab.research.google.com/github/satyalytics/deep_learning/blob/main/Neural_Network.ipynb\" target=\"_parent\"><img src=\"https://colab.research.google.com/assets/colab-badge.svg\" alt=\"Open In Colab\"/></a>"
      ]
    },
    {
      "cell_type": "code",
      "metadata": {
        "colab": {
          "base_uri": "https://localhost:8080/",
          "height": 35
        },
        "id": "OxpJ4slne5XE",
        "outputId": "4294082d-c5ff-496b-b4c5-6042bae963a8"
      },
      "source": [
        "\"\"\"\r\n",
        "This module demonstrates working of neural network in forward propagation only\r\n",
        "\"\"\""
      ],
      "execution_count": 12,
      "outputs": [
        {
          "output_type": "execute_result",
          "data": {
            "application/vnd.google.colaboratory.intrinsic+json": {
              "type": "string"
            },
            "text/plain": [
              "'\\nThis module demonstrates working of neural network in forward propagation only\\n'"
            ]
          },
          "metadata": {
            "tags": []
          },
          "execution_count": 12
        }
      ]
    },
    {
      "cell_type": "code",
      "metadata": {
        "id": "nBDsVmaTiixO"
      },
      "source": [
        "class Neural_Net:\r\n",
        "  \r\n",
        "  \"\"\"\r\n",
        "  This modules demonstrates the working of the neural network.\r\n",
        "\r\n",
        "  Notations:\r\n",
        "  N_1: Neurons in 1st layer stored in n_1 attribute of the class.\r\n",
        "  N_2: Neurons in 2nd layer stored in n_2 attribute of the class.\r\n",
        "  N_inputs: Neurons in input layer stored in n_inputs attribute of the class.\r\n",
        "  N_outputs: Neurons in output layer stored in n_outputs attribute of the class.\r\n",
        "  n_layer: Number of layers stored in n_layer of the class.\r\n",
        "\r\n",
        "  \"\"\"\r\n",
        "\r\n",
        "  def __init__(self, N_inputs=0, n_layer=0, N_outputs=0):\r\n",
        "\r\n",
        "    \"\"\"\r\n",
        "    constructor, can create a neural network without any argument\r\n",
        "    \"\"\"\r\n",
        "\r\n",
        "    self.n_inputs = N_inputs\r\n",
        "    self.n_outputs = N_outputs\r\n",
        "    self.n_layers = n_layer\r\n",
        "    self.layer_dict = {}\r\n",
        "\r\n",
        "\r\n",
        "  def input_layer(self, num_input_neurons, vals):\r\n",
        "\r\n",
        "    \"\"\"\r\n",
        "\r\n",
        "    Create the input layer by taking number of inputs and values to be used there\r\n",
        "    Args:\r\n",
        "      num_input_neurons: Number of inputs in input layer\r\n",
        "    Returns:\r\n",
        "      None\r\n",
        "\r\n",
        "    \"\"\"\r\n",
        "\r\n",
        "    if self.n_inputs == 0:    # if number of input neuron set to 0 previously\r\n",
        "      self.n_inputs = num_input_neurons        # assigning the number of input neurons\r\n",
        "    \r\n",
        "    elif self.n_inputs == num_input_neurons:        # if the number of input neuron set to given number of neurons\r\n",
        "      if len(vals) == self.n_inputs:        # if number of values equals to number of neurons\r\n",
        "        self.n_1 = vals       # aslo store the input value array\r\n",
        "    \r\n",
        "    else:\r\n",
        "      print(\"There is an error while creating the neural network\")\r\n",
        "\r\n",
        "\r\n",
        "  def add_layer(self, n_neurons, act):\r\n",
        "    \r\n",
        "    \"\"\"\r\n",
        "    Adds hidden layer with number of neurons and activation functions\r\n",
        "\r\n",
        "    Args:\r\n",
        "      n_neurons: Number of neurons for that layer.\r\n",
        "      act: Activation function for that layer\r\n",
        "    Returns:\r\n",
        "      None\r\n",
        "    \"\"\"\r\n",
        "\r\n",
        "    self.n_layers += 1\r\n",
        "    self.layer_dict['layer_.{}'.format(str(self.n_layers))] = Layer(n_neurons, act)\r\n",
        "\r\n",
        "  def output_layer(self, n_output, act):\r\n",
        "\r\n",
        "    \"\"\"\r\n",
        "    constructs the output layer\r\n",
        "    \"\"\"\r\n",
        "    self.n_layers += 1\r\n",
        "    self.layer_dict['output'] = Layer(n_output, act)\r\n",
        "\r\n",
        "  def init_weight(self):\r\n",
        "\r\n",
        "    \"\"\"\r\n",
        "    weight initialization for neurons\r\n",
        "    \"\"\""
      ],
      "execution_count": 13,
      "outputs": []
    },
    {
      "cell_type": "code",
      "metadata": {
        "id": "oWABa5WIjJu1"
      },
      "source": [
        "class Layer:\r\n",
        "\r\n",
        "  \"\"\" A class to create layers in neural network \"\"\"\r\n",
        "\r\n",
        "  def __init__(self, n_neurons, act):\r\n",
        "\r\n",
        "    \"\"\" \r\n",
        "    Args:\r\n",
        "      n_neurons: Neurons for that layer\r\n",
        "      act: Activation function for that layer\r\n",
        "    Return:\r\n",
        "      None, only create the layer with these 2 properties\r\n",
        "    \"\"\"\r\n",
        "\r\n",
        "    self.neurons = n_neurons\r\n",
        "    self.act = act\r\n",
        "    self.val = 0\r\n",
        "\r\n",
        "\r\n",
        "  def assign_val(self, values):\r\n",
        "    \r\n",
        "    \"\"\"\r\n",
        "    Assign values to neurons\r\n",
        "\r\n",
        "    Args:\r\n",
        "      values: an array of values\r\n",
        "    \"\"\"\r\n",
        "\r\n",
        "    try:\r\n",
        "      if len(values) == self.neurons:\r\n",
        "        self.val = values\r\n",
        "      else:\r\n",
        "        print(\"number of elements should be equal to number of neurons\")\r\n",
        "    except ValueError:\r\n",
        "      print(\"please input your values in array\")"
      ],
      "execution_count": 17,
      "outputs": []
    },
    {
      "cell_type": "code",
      "metadata": {
        "colab": {
          "base_uri": "https://localhost:8080/"
        },
        "id": "yz_rYc2CjMmc",
        "outputId": "31e1fc3e-7ab1-43b3-b045-3856907c8194"
      },
      "source": [
        ""
      ],
      "execution_count": 15,
      "outputs": [
        {
          "output_type": "execute_result",
          "data": {
            "text/plain": [
              "<__main__.Neural_Net at 0x7fca1be27080>"
            ]
          },
          "metadata": {
            "tags": []
          },
          "execution_count": 15
        }
      ]
    },
    {
      "cell_type": "code",
      "metadata": {
        "id": "R3MSnxapjNdH"
      },
      "source": [
        ""
      ],
      "execution_count": null,
      "outputs": []
    }
  ]
}