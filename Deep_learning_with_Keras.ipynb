{
  "nbformat": 4,
  "nbformat_minor": 0,
  "metadata": {
    "colab": {
      "name": "Deep_learning with Keras.ipynb",
      "provenance": [],
      "authorship_tag": "ABX9TyPYFK5GOv9QB9VfS39wuHjl",
      "include_colab_link": true
    },
    "kernelspec": {
      "name": "python3",
      "display_name": "Python 3"
    }
  },
  "cells": [
    {
      "cell_type": "markdown",
      "metadata": {
        "id": "view-in-github",
        "colab_type": "text"
      },
      "source": [
        "<a href=\"https://colab.research.google.com/github/satyalytics/deep_learning/blob/main/Deep_learning_with_Keras.ipynb\" target=\"_parent\"><img src=\"https://colab.research.google.com/assets/colab-badge.svg\" alt=\"Open In Colab\"/></a>"
      ]
    },
    {
      "cell_type": "markdown",
      "metadata": {
        "id": "ZczyTWUzSQuE"
      },
      "source": [
        "# Introduction\r\n",
        "\r\n",
        "To install Keras - conda install keras"
      ]
    },
    {
      "cell_type": "code",
      "metadata": {
        "id": "FolMA_ozQtKp"
      },
      "source": [
        "import numpy as np\r\n",
        "import pandas as pd\r\n",
        "import matplotlib.pyplot as plt"
      ],
      "execution_count": 2,
      "outputs": []
    },
    {
      "cell_type": "code",
      "metadata": {
        "id": "FSbKg5uCSZ0u"
      },
      "source": [
        "df = pd.read_csv(\"https://raw.githubusercontent.com/zunicd/Bank-Churn-Prediction/master/Resources/Churn_Modelling.csv\")"
      ],
      "execution_count": 4,
      "outputs": []
    },
    {
      "cell_type": "code",
      "metadata": {
        "colab": {
          "base_uri": "https://localhost:8080/"
        },
        "id": "afR_LPhGTEwN",
        "outputId": "1160652a-243b-40f6-d8a6-1905eba5229a"
      },
      "source": [
        "df.shape"
      ],
      "execution_count": 5,
      "outputs": [
        {
          "output_type": "execute_result",
          "data": {
            "text/plain": [
              "(10000, 14)"
            ]
          },
          "metadata": {
            "tags": []
          },
          "execution_count": 5
        }
      ]
    },
    {
      "cell_type": "code",
      "metadata": {
        "colab": {
          "base_uri": "https://localhost:8080/",
          "height": 204
        },
        "id": "QnGY-Vr3TPGu",
        "outputId": "1f8d085b-9be6-452e-f499-b88e9f39f3b9"
      },
      "source": [
        "df.head()"
      ],
      "execution_count": 6,
      "outputs": [
        {
          "output_type": "execute_result",
          "data": {
            "text/html": [
              "<div>\n",
              "<style scoped>\n",
              "    .dataframe tbody tr th:only-of-type {\n",
              "        vertical-align: middle;\n",
              "    }\n",
              "\n",
              "    .dataframe tbody tr th {\n",
              "        vertical-align: top;\n",
              "    }\n",
              "\n",
              "    .dataframe thead th {\n",
              "        text-align: right;\n",
              "    }\n",
              "</style>\n",
              "<table border=\"1\" class=\"dataframe\">\n",
              "  <thead>\n",
              "    <tr style=\"text-align: right;\">\n",
              "      <th></th>\n",
              "      <th>RowNumber</th>\n",
              "      <th>CustomerId</th>\n",
              "      <th>Surname</th>\n",
              "      <th>CreditScore</th>\n",
              "      <th>Geography</th>\n",
              "      <th>Gender</th>\n",
              "      <th>Age</th>\n",
              "      <th>Tenure</th>\n",
              "      <th>Balance</th>\n",
              "      <th>NumOfProducts</th>\n",
              "      <th>HasCrCard</th>\n",
              "      <th>IsActiveMember</th>\n",
              "      <th>EstimatedSalary</th>\n",
              "      <th>Exited</th>\n",
              "    </tr>\n",
              "  </thead>\n",
              "  <tbody>\n",
              "    <tr>\n",
              "      <th>0</th>\n",
              "      <td>1</td>\n",
              "      <td>15634602</td>\n",
              "      <td>Hargrave</td>\n",
              "      <td>619</td>\n",
              "      <td>France</td>\n",
              "      <td>Female</td>\n",
              "      <td>42</td>\n",
              "      <td>2</td>\n",
              "      <td>0.00</td>\n",
              "      <td>1</td>\n",
              "      <td>1</td>\n",
              "      <td>1</td>\n",
              "      <td>101348.88</td>\n",
              "      <td>1</td>\n",
              "    </tr>\n",
              "    <tr>\n",
              "      <th>1</th>\n",
              "      <td>2</td>\n",
              "      <td>15647311</td>\n",
              "      <td>Hill</td>\n",
              "      <td>608</td>\n",
              "      <td>Spain</td>\n",
              "      <td>Female</td>\n",
              "      <td>41</td>\n",
              "      <td>1</td>\n",
              "      <td>83807.86</td>\n",
              "      <td>1</td>\n",
              "      <td>0</td>\n",
              "      <td>1</td>\n",
              "      <td>112542.58</td>\n",
              "      <td>0</td>\n",
              "    </tr>\n",
              "    <tr>\n",
              "      <th>2</th>\n",
              "      <td>3</td>\n",
              "      <td>15619304</td>\n",
              "      <td>Onio</td>\n",
              "      <td>502</td>\n",
              "      <td>France</td>\n",
              "      <td>Female</td>\n",
              "      <td>42</td>\n",
              "      <td>8</td>\n",
              "      <td>159660.80</td>\n",
              "      <td>3</td>\n",
              "      <td>1</td>\n",
              "      <td>0</td>\n",
              "      <td>113931.57</td>\n",
              "      <td>1</td>\n",
              "    </tr>\n",
              "    <tr>\n",
              "      <th>3</th>\n",
              "      <td>4</td>\n",
              "      <td>15701354</td>\n",
              "      <td>Boni</td>\n",
              "      <td>699</td>\n",
              "      <td>France</td>\n",
              "      <td>Female</td>\n",
              "      <td>39</td>\n",
              "      <td>1</td>\n",
              "      <td>0.00</td>\n",
              "      <td>2</td>\n",
              "      <td>0</td>\n",
              "      <td>0</td>\n",
              "      <td>93826.63</td>\n",
              "      <td>0</td>\n",
              "    </tr>\n",
              "    <tr>\n",
              "      <th>4</th>\n",
              "      <td>5</td>\n",
              "      <td>15737888</td>\n",
              "      <td>Mitchell</td>\n",
              "      <td>850</td>\n",
              "      <td>Spain</td>\n",
              "      <td>Female</td>\n",
              "      <td>43</td>\n",
              "      <td>2</td>\n",
              "      <td>125510.82</td>\n",
              "      <td>1</td>\n",
              "      <td>1</td>\n",
              "      <td>1</td>\n",
              "      <td>79084.10</td>\n",
              "      <td>0</td>\n",
              "    </tr>\n",
              "  </tbody>\n",
              "</table>\n",
              "</div>"
            ],
            "text/plain": [
              "   RowNumber  CustomerId   Surname  ...  IsActiveMember EstimatedSalary Exited\n",
              "0          1    15634602  Hargrave  ...               1       101348.88      1\n",
              "1          2    15647311      Hill  ...               1       112542.58      0\n",
              "2          3    15619304      Onio  ...               0       113931.57      1\n",
              "3          4    15701354      Boni  ...               0        93826.63      0\n",
              "4          5    15737888  Mitchell  ...               1        79084.10      0\n",
              "\n",
              "[5 rows x 14 columns]"
            ]
          },
          "metadata": {
            "tags": []
          },
          "execution_count": 6
        }
      ]
    },
    {
      "cell_type": "code",
      "metadata": {
        "id": "O52JHYXlTQ4b"
      },
      "source": [
        "df.drop(['RowNumber','CustomerId','Surname'],axis=1,inplace=True)"
      ],
      "execution_count": 7,
      "outputs": []
    },
    {
      "cell_type": "code",
      "metadata": {
        "colab": {
          "base_uri": "https://localhost:8080/",
          "height": 204
        },
        "id": "r7UCE7WDTfds",
        "outputId": "b091f2dd-bb9a-4ad2-abf6-30490d30de84"
      },
      "source": [
        "df.head()"
      ],
      "execution_count": 8,
      "outputs": [
        {
          "output_type": "execute_result",
          "data": {
            "text/html": [
              "<div>\n",
              "<style scoped>\n",
              "    .dataframe tbody tr th:only-of-type {\n",
              "        vertical-align: middle;\n",
              "    }\n",
              "\n",
              "    .dataframe tbody tr th {\n",
              "        vertical-align: top;\n",
              "    }\n",
              "\n",
              "    .dataframe thead th {\n",
              "        text-align: right;\n",
              "    }\n",
              "</style>\n",
              "<table border=\"1\" class=\"dataframe\">\n",
              "  <thead>\n",
              "    <tr style=\"text-align: right;\">\n",
              "      <th></th>\n",
              "      <th>CreditScore</th>\n",
              "      <th>Geography</th>\n",
              "      <th>Gender</th>\n",
              "      <th>Age</th>\n",
              "      <th>Tenure</th>\n",
              "      <th>Balance</th>\n",
              "      <th>NumOfProducts</th>\n",
              "      <th>HasCrCard</th>\n",
              "      <th>IsActiveMember</th>\n",
              "      <th>EstimatedSalary</th>\n",
              "      <th>Exited</th>\n",
              "    </tr>\n",
              "  </thead>\n",
              "  <tbody>\n",
              "    <tr>\n",
              "      <th>0</th>\n",
              "      <td>619</td>\n",
              "      <td>France</td>\n",
              "      <td>Female</td>\n",
              "      <td>42</td>\n",
              "      <td>2</td>\n",
              "      <td>0.00</td>\n",
              "      <td>1</td>\n",
              "      <td>1</td>\n",
              "      <td>1</td>\n",
              "      <td>101348.88</td>\n",
              "      <td>1</td>\n",
              "    </tr>\n",
              "    <tr>\n",
              "      <th>1</th>\n",
              "      <td>608</td>\n",
              "      <td>Spain</td>\n",
              "      <td>Female</td>\n",
              "      <td>41</td>\n",
              "      <td>1</td>\n",
              "      <td>83807.86</td>\n",
              "      <td>1</td>\n",
              "      <td>0</td>\n",
              "      <td>1</td>\n",
              "      <td>112542.58</td>\n",
              "      <td>0</td>\n",
              "    </tr>\n",
              "    <tr>\n",
              "      <th>2</th>\n",
              "      <td>502</td>\n",
              "      <td>France</td>\n",
              "      <td>Female</td>\n",
              "      <td>42</td>\n",
              "      <td>8</td>\n",
              "      <td>159660.80</td>\n",
              "      <td>3</td>\n",
              "      <td>1</td>\n",
              "      <td>0</td>\n",
              "      <td>113931.57</td>\n",
              "      <td>1</td>\n",
              "    </tr>\n",
              "    <tr>\n",
              "      <th>3</th>\n",
              "      <td>699</td>\n",
              "      <td>France</td>\n",
              "      <td>Female</td>\n",
              "      <td>39</td>\n",
              "      <td>1</td>\n",
              "      <td>0.00</td>\n",
              "      <td>2</td>\n",
              "      <td>0</td>\n",
              "      <td>0</td>\n",
              "      <td>93826.63</td>\n",
              "      <td>0</td>\n",
              "    </tr>\n",
              "    <tr>\n",
              "      <th>4</th>\n",
              "      <td>850</td>\n",
              "      <td>Spain</td>\n",
              "      <td>Female</td>\n",
              "      <td>43</td>\n",
              "      <td>2</td>\n",
              "      <td>125510.82</td>\n",
              "      <td>1</td>\n",
              "      <td>1</td>\n",
              "      <td>1</td>\n",
              "      <td>79084.10</td>\n",
              "      <td>0</td>\n",
              "    </tr>\n",
              "  </tbody>\n",
              "</table>\n",
              "</div>"
            ],
            "text/plain": [
              "   CreditScore Geography  Gender  ...  IsActiveMember  EstimatedSalary  Exited\n",
              "0          619    France  Female  ...               1        101348.88       1\n",
              "1          608     Spain  Female  ...               1        112542.58       0\n",
              "2          502    France  Female  ...               0        113931.57       1\n",
              "3          699    France  Female  ...               0         93826.63       0\n",
              "4          850     Spain  Female  ...               1         79084.10       0\n",
              "\n",
              "[5 rows x 11 columns]"
            ]
          },
          "metadata": {
            "tags": []
          },
          "execution_count": 8
        }
      ]
    },
    {
      "cell_type": "code",
      "metadata": {
        "colab": {
          "base_uri": "https://localhost:8080/"
        },
        "id": "wWiCq1A6TgsW",
        "outputId": "7ff895bc-a061-4b0d-89b1-be66b8ccf192"
      },
      "source": [
        "df['Geography'].value_counts()"
      ],
      "execution_count": 9,
      "outputs": [
        {
          "output_type": "execute_result",
          "data": {
            "text/plain": [
              "France     5014\n",
              "Germany    2509\n",
              "Spain      2477\n",
              "Name: Geography, dtype: int64"
            ]
          },
          "metadata": {
            "tags": []
          },
          "execution_count": 9
        }
      ]
    },
    {
      "cell_type": "code",
      "metadata": {
        "colab": {
          "base_uri": "https://localhost:8080/"
        },
        "id": "ZHKXhg59Tp7w",
        "outputId": "742fdb5e-952e-458a-88be-6c8d4f4e67de"
      },
      "source": [
        "df['Gender'].value_counts()"
      ],
      "execution_count": 10,
      "outputs": [
        {
          "output_type": "execute_result",
          "data": {
            "text/plain": [
              "Male      5457\n",
              "Female    4543\n",
              "Name: Gender, dtype: int64"
            ]
          },
          "metadata": {
            "tags": []
          },
          "execution_count": 10
        }
      ]
    },
    {
      "cell_type": "code",
      "metadata": {
        "id": "04CiWwMiTvC_"
      },
      "source": [
        "X,y = df.drop('Exited', axis=1), df['Exited']\r\n",
        "X = pd.get_dummies(X,drop_first=True)"
      ],
      "execution_count": 11,
      "outputs": []
    },
    {
      "cell_type": "code",
      "metadata": {
        "id": "0FB-Y3nzUJku"
      },
      "source": [
        "from sklearn.preprocessing import StandardScaler\r\n",
        "from sklearn.model_selection import train_test_split"
      ],
      "execution_count": 12,
      "outputs": []
    },
    {
      "cell_type": "code",
      "metadata": {
        "id": "BiX6B4JqUapx"
      },
      "source": [
        "X_tr, X_te, y_tr, y_te = train_test_split(X,y,test_size=0.2)\r\n",
        "col = X.columns\r\n",
        "sc = StandardScaler()\r\n",
        "X_tr = sc.fit_transform(X_tr)\r\n",
        "X_te = sc.fit_transform(X_te)\r\n",
        "\r\n",
        "X_tr = pd.DataFrame(X_tr, columns=col)\r\n",
        "X_te = pd.DataFrame(X_te, columns=col)"
      ],
      "execution_count": 13,
      "outputs": []
    },
    {
      "cell_type": "code",
      "metadata": {
        "colab": {
          "base_uri": "https://localhost:8080/",
          "height": 204
        },
        "id": "sA5RrCjSUy9U",
        "outputId": "8e6a85b7-15b6-4b1a-b782-69ad7cfd3b61"
      },
      "source": [
        "X_tr.head()"
      ],
      "execution_count": 14,
      "outputs": [
        {
          "output_type": "execute_result",
          "data": {
            "text/html": [
              "<div>\n",
              "<style scoped>\n",
              "    .dataframe tbody tr th:only-of-type {\n",
              "        vertical-align: middle;\n",
              "    }\n",
              "\n",
              "    .dataframe tbody tr th {\n",
              "        vertical-align: top;\n",
              "    }\n",
              "\n",
              "    .dataframe thead th {\n",
              "        text-align: right;\n",
              "    }\n",
              "</style>\n",
              "<table border=\"1\" class=\"dataframe\">\n",
              "  <thead>\n",
              "    <tr style=\"text-align: right;\">\n",
              "      <th></th>\n",
              "      <th>CreditScore</th>\n",
              "      <th>Age</th>\n",
              "      <th>Tenure</th>\n",
              "      <th>Balance</th>\n",
              "      <th>NumOfProducts</th>\n",
              "      <th>HasCrCard</th>\n",
              "      <th>IsActiveMember</th>\n",
              "      <th>EstimatedSalary</th>\n",
              "      <th>Geography_Germany</th>\n",
              "      <th>Geography_Spain</th>\n",
              "      <th>Gender_Male</th>\n",
              "    </tr>\n",
              "  </thead>\n",
              "  <tbody>\n",
              "    <tr>\n",
              "      <th>0</th>\n",
              "      <td>-0.655826</td>\n",
              "      <td>-0.658743</td>\n",
              "      <td>-0.693054</td>\n",
              "      <td>0.787328</td>\n",
              "      <td>0.814568</td>\n",
              "      <td>0.64512</td>\n",
              "      <td>0.971652</td>\n",
              "      <td>0.523023</td>\n",
              "      <td>1.730897</td>\n",
              "      <td>-0.571962</td>\n",
              "      <td>-1.094717</td>\n",
              "    </tr>\n",
              "    <tr>\n",
              "      <th>1</th>\n",
              "      <td>0.098285</td>\n",
              "      <td>-0.370993</td>\n",
              "      <td>0.690201</td>\n",
              "      <td>-1.227152</td>\n",
              "      <td>0.814568</td>\n",
              "      <td>0.64512</td>\n",
              "      <td>-1.029175</td>\n",
              "      <td>-1.516929</td>\n",
              "      <td>-0.577735</td>\n",
              "      <td>-0.571962</td>\n",
              "      <td>0.913478</td>\n",
              "    </tr>\n",
              "    <tr>\n",
              "      <th>2</th>\n",
              "      <td>0.635460</td>\n",
              "      <td>-0.850576</td>\n",
              "      <td>0.344387</td>\n",
              "      <td>-1.227152</td>\n",
              "      <td>0.814568</td>\n",
              "      <td>0.64512</td>\n",
              "      <td>-1.029175</td>\n",
              "      <td>0.903952</td>\n",
              "      <td>-0.577735</td>\n",
              "      <td>1.748369</td>\n",
              "      <td>-1.094717</td>\n",
              "    </tr>\n",
              "    <tr>\n",
              "      <th>3</th>\n",
              "      <td>0.842065</td>\n",
              "      <td>0.204506</td>\n",
              "      <td>1.036014</td>\n",
              "      <td>-1.227152</td>\n",
              "      <td>0.814568</td>\n",
              "      <td>0.64512</td>\n",
              "      <td>0.971652</td>\n",
              "      <td>1.225141</td>\n",
              "      <td>-0.577735</td>\n",
              "      <td>-0.571962</td>\n",
              "      <td>0.913478</td>\n",
              "    </tr>\n",
              "    <tr>\n",
              "      <th>4</th>\n",
              "      <td>0.346212</td>\n",
              "      <td>-0.370993</td>\n",
              "      <td>-0.693054</td>\n",
              "      <td>0.378197</td>\n",
              "      <td>-0.916713</td>\n",
              "      <td>0.64512</td>\n",
              "      <td>0.971652</td>\n",
              "      <td>1.329419</td>\n",
              "      <td>1.730897</td>\n",
              "      <td>-0.571962</td>\n",
              "      <td>0.913478</td>\n",
              "    </tr>\n",
              "  </tbody>\n",
              "</table>\n",
              "</div>"
            ],
            "text/plain": [
              "   CreditScore       Age  ...  Geography_Spain  Gender_Male\n",
              "0    -0.655826 -0.658743  ...        -0.571962    -1.094717\n",
              "1     0.098285 -0.370993  ...        -0.571962     0.913478\n",
              "2     0.635460 -0.850576  ...         1.748369    -1.094717\n",
              "3     0.842065  0.204506  ...        -0.571962     0.913478\n",
              "4     0.346212 -0.370993  ...        -0.571962     0.913478\n",
              "\n",
              "[5 rows x 11 columns]"
            ]
          },
          "metadata": {
            "tags": []
          },
          "execution_count": 14
        }
      ]
    },
    {
      "cell_type": "code",
      "metadata": {
        "id": "ByrMEmWNU17q"
      },
      "source": [
        "# importing libraries for ANN\r\n",
        "\r\n",
        "import keras\r\n",
        "from keras.models import Sequential\r\n",
        "from keras.layers import Dense\r\n",
        "from keras.layers import Dropout"
      ],
      "execution_count": 16,
      "outputs": []
    },
    {
      "cell_type": "code",
      "metadata": {
        "colab": {
          "base_uri": "https://localhost:8080/"
        },
        "id": "eeGXm5cIVQvz",
        "outputId": "36a43251-318a-484c-dc0a-56e5155c5787"
      },
      "source": [
        "# Initializing ANN\r\n",
        "\r\n",
        "clf = Sequential()\r\n",
        "\r\n",
        "# adding first hidden layers\r\n",
        "\r\n",
        "clf.add(Dense(units=60, kernel_initializer='he_uniform', activation='relu',input_dim=11))\r\n",
        "clf.add(Dropout(0.3)) # dropout layer\r\n",
        "clf.add(Dense(units=60, kernel_initializer='he_uniform', activation='relu'))\r\n",
        "clf.add(Dropout(0.3)) # dropout layer\r\n",
        "clf.add(Dense(units=60, kernel_initializer='he_uniform', activation='relu'))\r\n",
        "# clf.add(Dropout(0.3)) # dropout layer\r\n",
        "clf.add(Dense(units=60, kernel_initializer='he_uniform', activation='relu'))\r\n",
        "# clf.add(Dropout(0.3)) # dropout layer\r\n",
        "clf.add(Dense(units=1, kernel_initializer='glorot_uniform', activation='sigmoid'))\r\n",
        "\r\n",
        "# compile the ANN\r\n",
        "\r\n",
        "clf.compile(optimizer='adam', loss='binary_crossentropy', metrics=['accuracy'])\r\n",
        "\r\n",
        "# fitting ann to the training set\r\n",
        "\r\n",
        "model_history = clf.fit(X_tr, y_tr, validation_split=0.33, batch_size=100, epochs = 150)"
      ],
      "execution_count": 30,
      "outputs": [
        {
          "output_type": "stream",
          "text": [
            "Epoch 1/150\n",
            "54/54 [==============================] - 1s 6ms/step - loss: 1.2106 - accuracy: 0.5018 - val_loss: 0.5011 - val_accuracy: 0.7978\n",
            "Epoch 2/150\n",
            "54/54 [==============================] - 0s 3ms/step - loss: 0.5151 - accuracy: 0.7873 - val_loss: 0.4559 - val_accuracy: 0.8069\n",
            "Epoch 3/150\n",
            "54/54 [==============================] - 0s 3ms/step - loss: 0.4809 - accuracy: 0.7903 - val_loss: 0.4351 - val_accuracy: 0.8190\n",
            "Epoch 4/150\n",
            "54/54 [==============================] - 0s 3ms/step - loss: 0.4692 - accuracy: 0.8071 - val_loss: 0.4202 - val_accuracy: 0.8247\n",
            "Epoch 5/150\n",
            "54/54 [==============================] - 0s 3ms/step - loss: 0.4718 - accuracy: 0.8010 - val_loss: 0.4197 - val_accuracy: 0.8277\n",
            "Epoch 6/150\n",
            "54/54 [==============================] - 0s 3ms/step - loss: 0.4613 - accuracy: 0.8043 - val_loss: 0.4156 - val_accuracy: 0.8239\n",
            "Epoch 7/150\n",
            "54/54 [==============================] - 0s 3ms/step - loss: 0.4443 - accuracy: 0.8067 - val_loss: 0.4067 - val_accuracy: 0.8292\n",
            "Epoch 8/150\n",
            "54/54 [==============================] - 0s 3ms/step - loss: 0.4548 - accuracy: 0.8048 - val_loss: 0.3979 - val_accuracy: 0.8311\n",
            "Epoch 9/150\n",
            "54/54 [==============================] - 0s 3ms/step - loss: 0.4356 - accuracy: 0.8200 - val_loss: 0.3926 - val_accuracy: 0.8334\n",
            "Epoch 10/150\n",
            "54/54 [==============================] - 0s 3ms/step - loss: 0.4315 - accuracy: 0.8157 - val_loss: 0.3874 - val_accuracy: 0.8368\n",
            "Epoch 11/150\n",
            "54/54 [==============================] - 0s 3ms/step - loss: 0.4260 - accuracy: 0.8212 - val_loss: 0.3802 - val_accuracy: 0.8425\n",
            "Epoch 12/150\n",
            "54/54 [==============================] - 0s 3ms/step - loss: 0.4127 - accuracy: 0.8267 - val_loss: 0.3770 - val_accuracy: 0.8451\n",
            "Epoch 13/150\n",
            "54/54 [==============================] - 0s 3ms/step - loss: 0.4291 - accuracy: 0.8243 - val_loss: 0.3694 - val_accuracy: 0.8421\n",
            "Epoch 14/150\n",
            "54/54 [==============================] - 0s 3ms/step - loss: 0.4198 - accuracy: 0.8325 - val_loss: 0.3669 - val_accuracy: 0.8470\n",
            "Epoch 15/150\n",
            "54/54 [==============================] - 0s 3ms/step - loss: 0.4087 - accuracy: 0.8321 - val_loss: 0.3630 - val_accuracy: 0.8485\n",
            "Epoch 16/150\n",
            "54/54 [==============================] - 0s 3ms/step - loss: 0.4098 - accuracy: 0.8317 - val_loss: 0.3673 - val_accuracy: 0.8493\n",
            "Epoch 17/150\n",
            "54/54 [==============================] - 0s 3ms/step - loss: 0.4116 - accuracy: 0.8214 - val_loss: 0.3555 - val_accuracy: 0.8478\n",
            "Epoch 18/150\n",
            "54/54 [==============================] - 0s 3ms/step - loss: 0.4051 - accuracy: 0.8332 - val_loss: 0.3568 - val_accuracy: 0.8497\n",
            "Epoch 19/150\n",
            "54/54 [==============================] - 0s 3ms/step - loss: 0.3962 - accuracy: 0.8287 - val_loss: 0.3523 - val_accuracy: 0.8516\n",
            "Epoch 20/150\n",
            "54/54 [==============================] - 0s 3ms/step - loss: 0.3829 - accuracy: 0.8401 - val_loss: 0.3540 - val_accuracy: 0.8535\n",
            "Epoch 21/150\n",
            "54/54 [==============================] - 0s 3ms/step - loss: 0.4100 - accuracy: 0.8254 - val_loss: 0.3465 - val_accuracy: 0.8550\n",
            "Epoch 22/150\n",
            "54/54 [==============================] - 0s 3ms/step - loss: 0.3835 - accuracy: 0.8409 - val_loss: 0.3497 - val_accuracy: 0.8561\n",
            "Epoch 23/150\n",
            "54/54 [==============================] - 0s 3ms/step - loss: 0.3907 - accuracy: 0.8376 - val_loss: 0.3512 - val_accuracy: 0.8542\n",
            "Epoch 24/150\n",
            "54/54 [==============================] - 0s 3ms/step - loss: 0.3920 - accuracy: 0.8302 - val_loss: 0.3467 - val_accuracy: 0.8576\n",
            "Epoch 25/150\n",
            "54/54 [==============================] - 0s 3ms/step - loss: 0.3774 - accuracy: 0.8447 - val_loss: 0.3503 - val_accuracy: 0.8591\n",
            "Epoch 26/150\n",
            "54/54 [==============================] - 0s 3ms/step - loss: 0.3698 - accuracy: 0.8445 - val_loss: 0.3512 - val_accuracy: 0.8595\n",
            "Epoch 27/150\n",
            "54/54 [==============================] - 0s 3ms/step - loss: 0.3767 - accuracy: 0.8442 - val_loss: 0.3466 - val_accuracy: 0.8584\n",
            "Epoch 28/150\n",
            "54/54 [==============================] - 0s 3ms/step - loss: 0.3890 - accuracy: 0.8369 - val_loss: 0.3438 - val_accuracy: 0.8531\n",
            "Epoch 29/150\n",
            "54/54 [==============================] - 0s 3ms/step - loss: 0.3704 - accuracy: 0.8431 - val_loss: 0.3543 - val_accuracy: 0.8557\n",
            "Epoch 30/150\n",
            "54/54 [==============================] - 0s 3ms/step - loss: 0.3880 - accuracy: 0.8342 - val_loss: 0.3414 - val_accuracy: 0.8573\n",
            "Epoch 31/150\n",
            "54/54 [==============================] - 0s 3ms/step - loss: 0.3678 - accuracy: 0.8444 - val_loss: 0.3481 - val_accuracy: 0.8569\n",
            "Epoch 32/150\n",
            "54/54 [==============================] - 0s 3ms/step - loss: 0.3775 - accuracy: 0.8333 - val_loss: 0.3422 - val_accuracy: 0.8584\n",
            "Epoch 33/150\n",
            "54/54 [==============================] - 0s 3ms/step - loss: 0.3665 - accuracy: 0.8442 - val_loss: 0.3451 - val_accuracy: 0.8607\n",
            "Epoch 34/150\n",
            "54/54 [==============================] - 0s 3ms/step - loss: 0.3795 - accuracy: 0.8438 - val_loss: 0.3470 - val_accuracy: 0.8569\n",
            "Epoch 35/150\n",
            "54/54 [==============================] - 0s 3ms/step - loss: 0.3634 - accuracy: 0.8480 - val_loss: 0.3444 - val_accuracy: 0.8576\n",
            "Epoch 36/150\n",
            "54/54 [==============================] - 0s 3ms/step - loss: 0.3726 - accuracy: 0.8482 - val_loss: 0.3438 - val_accuracy: 0.8591\n",
            "Epoch 37/150\n",
            "54/54 [==============================] - 0s 3ms/step - loss: 0.3556 - accuracy: 0.8531 - val_loss: 0.3397 - val_accuracy: 0.8588\n",
            "Epoch 38/150\n",
            "54/54 [==============================] - 0s 6ms/step - loss: 0.3747 - accuracy: 0.8473 - val_loss: 0.3421 - val_accuracy: 0.8557\n",
            "Epoch 39/150\n",
            "54/54 [==============================] - 0s 3ms/step - loss: 0.3595 - accuracy: 0.8551 - val_loss: 0.3376 - val_accuracy: 0.8588\n",
            "Epoch 40/150\n",
            "54/54 [==============================] - 0s 3ms/step - loss: 0.3703 - accuracy: 0.8414 - val_loss: 0.3432 - val_accuracy: 0.8557\n",
            "Epoch 41/150\n",
            "54/54 [==============================] - 0s 3ms/step - loss: 0.3747 - accuracy: 0.8429 - val_loss: 0.3405 - val_accuracy: 0.8569\n",
            "Epoch 42/150\n",
            "54/54 [==============================] - 0s 3ms/step - loss: 0.3610 - accuracy: 0.8545 - val_loss: 0.3395 - val_accuracy: 0.8588\n",
            "Epoch 43/150\n",
            "54/54 [==============================] - 0s 3ms/step - loss: 0.3540 - accuracy: 0.8564 - val_loss: 0.3412 - val_accuracy: 0.8610\n",
            "Epoch 44/150\n",
            "54/54 [==============================] - 0s 3ms/step - loss: 0.3819 - accuracy: 0.8443 - val_loss: 0.3392 - val_accuracy: 0.8565\n",
            "Epoch 45/150\n",
            "54/54 [==============================] - 0s 3ms/step - loss: 0.3727 - accuracy: 0.8473 - val_loss: 0.3392 - val_accuracy: 0.8599\n",
            "Epoch 46/150\n",
            "54/54 [==============================] - 0s 3ms/step - loss: 0.3638 - accuracy: 0.8469 - val_loss: 0.3374 - val_accuracy: 0.8603\n",
            "Epoch 47/150\n",
            "54/54 [==============================] - 0s 3ms/step - loss: 0.3707 - accuracy: 0.8467 - val_loss: 0.3352 - val_accuracy: 0.8603\n",
            "Epoch 48/150\n",
            "54/54 [==============================] - 0s 3ms/step - loss: 0.3664 - accuracy: 0.8465 - val_loss: 0.3367 - val_accuracy: 0.8618\n",
            "Epoch 49/150\n",
            "54/54 [==============================] - 0s 3ms/step - loss: 0.3495 - accuracy: 0.8577 - val_loss: 0.3438 - val_accuracy: 0.8641\n",
            "Epoch 50/150\n",
            "54/54 [==============================] - 0s 3ms/step - loss: 0.3448 - accuracy: 0.8624 - val_loss: 0.3380 - val_accuracy: 0.8614\n",
            "Epoch 51/150\n",
            "54/54 [==============================] - 0s 3ms/step - loss: 0.3733 - accuracy: 0.8464 - val_loss: 0.3371 - val_accuracy: 0.8595\n",
            "Epoch 52/150\n",
            "54/54 [==============================] - 0s 3ms/step - loss: 0.3513 - accuracy: 0.8544 - val_loss: 0.3356 - val_accuracy: 0.8614\n",
            "Epoch 53/150\n",
            "54/54 [==============================] - 0s 3ms/step - loss: 0.3433 - accuracy: 0.8576 - val_loss: 0.3393 - val_accuracy: 0.8607\n",
            "Epoch 54/150\n",
            "54/54 [==============================] - 0s 3ms/step - loss: 0.3631 - accuracy: 0.8491 - val_loss: 0.3358 - val_accuracy: 0.8618\n",
            "Epoch 55/150\n",
            "54/54 [==============================] - 0s 3ms/step - loss: 0.3514 - accuracy: 0.8550 - val_loss: 0.3370 - val_accuracy: 0.8652\n",
            "Epoch 56/150\n",
            "54/54 [==============================] - 0s 3ms/step - loss: 0.3527 - accuracy: 0.8567 - val_loss: 0.3391 - val_accuracy: 0.8656\n",
            "Epoch 57/150\n",
            "54/54 [==============================] - 0s 3ms/step - loss: 0.3766 - accuracy: 0.8446 - val_loss: 0.3366 - val_accuracy: 0.8610\n",
            "Epoch 58/150\n",
            "54/54 [==============================] - 0s 3ms/step - loss: 0.3458 - accuracy: 0.8574 - val_loss: 0.3391 - val_accuracy: 0.8629\n",
            "Epoch 59/150\n",
            "54/54 [==============================] - 0s 3ms/step - loss: 0.3662 - accuracy: 0.8476 - val_loss: 0.3337 - val_accuracy: 0.8663\n",
            "Epoch 60/150\n",
            "54/54 [==============================] - 0s 3ms/step - loss: 0.3412 - accuracy: 0.8623 - val_loss: 0.3379 - val_accuracy: 0.8633\n",
            "Epoch 61/150\n",
            "54/54 [==============================] - 0s 3ms/step - loss: 0.3546 - accuracy: 0.8503 - val_loss: 0.3355 - val_accuracy: 0.8644\n",
            "Epoch 62/150\n",
            "54/54 [==============================] - 0s 3ms/step - loss: 0.3445 - accuracy: 0.8563 - val_loss: 0.3367 - val_accuracy: 0.8637\n",
            "Epoch 63/150\n",
            "54/54 [==============================] - 0s 3ms/step - loss: 0.3440 - accuracy: 0.8545 - val_loss: 0.3356 - val_accuracy: 0.8626\n",
            "Epoch 64/150\n",
            "54/54 [==============================] - 0s 3ms/step - loss: 0.3551 - accuracy: 0.8541 - val_loss: 0.3349 - val_accuracy: 0.8626\n",
            "Epoch 65/150\n",
            "54/54 [==============================] - 0s 3ms/step - loss: 0.3450 - accuracy: 0.8560 - val_loss: 0.3378 - val_accuracy: 0.8648\n",
            "Epoch 66/150\n",
            "54/54 [==============================] - 0s 3ms/step - loss: 0.3520 - accuracy: 0.8585 - val_loss: 0.3333 - val_accuracy: 0.8637\n",
            "Epoch 67/150\n",
            "54/54 [==============================] - 0s 3ms/step - loss: 0.3437 - accuracy: 0.8569 - val_loss: 0.3367 - val_accuracy: 0.8573\n",
            "Epoch 68/150\n",
            "54/54 [==============================] - 0s 3ms/step - loss: 0.3466 - accuracy: 0.8609 - val_loss: 0.3354 - val_accuracy: 0.8607\n",
            "Epoch 69/150\n",
            "54/54 [==============================] - 0s 3ms/step - loss: 0.3532 - accuracy: 0.8527 - val_loss: 0.3343 - val_accuracy: 0.8607\n",
            "Epoch 70/150\n",
            "54/54 [==============================] - 0s 3ms/step - loss: 0.3528 - accuracy: 0.8532 - val_loss: 0.3341 - val_accuracy: 0.8629\n",
            "Epoch 71/150\n",
            "54/54 [==============================] - 0s 3ms/step - loss: 0.3512 - accuracy: 0.8549 - val_loss: 0.3362 - val_accuracy: 0.8588\n",
            "Epoch 72/150\n",
            "54/54 [==============================] - 0s 3ms/step - loss: 0.3453 - accuracy: 0.8548 - val_loss: 0.3368 - val_accuracy: 0.8599\n",
            "Epoch 73/150\n",
            "54/54 [==============================] - 0s 3ms/step - loss: 0.3528 - accuracy: 0.8555 - val_loss: 0.3339 - val_accuracy: 0.8618\n",
            "Epoch 74/150\n",
            "54/54 [==============================] - 0s 3ms/step - loss: 0.3598 - accuracy: 0.8516 - val_loss: 0.3344 - val_accuracy: 0.8622\n",
            "Epoch 75/150\n",
            "54/54 [==============================] - 0s 3ms/step - loss: 0.3429 - accuracy: 0.8599 - val_loss: 0.3383 - val_accuracy: 0.8588\n",
            "Epoch 76/150\n",
            "54/54 [==============================] - 0s 3ms/step - loss: 0.3358 - accuracy: 0.8613 - val_loss: 0.3331 - val_accuracy: 0.8622\n",
            "Epoch 77/150\n",
            "54/54 [==============================] - 0s 3ms/step - loss: 0.3465 - accuracy: 0.8589 - val_loss: 0.3375 - val_accuracy: 0.8607\n",
            "Epoch 78/150\n",
            "54/54 [==============================] - 0s 3ms/step - loss: 0.3493 - accuracy: 0.8510 - val_loss: 0.3347 - val_accuracy: 0.8603\n",
            "Epoch 79/150\n",
            "54/54 [==============================] - 0s 3ms/step - loss: 0.3430 - accuracy: 0.8556 - val_loss: 0.3382 - val_accuracy: 0.8591\n",
            "Epoch 80/150\n",
            "54/54 [==============================] - 0s 3ms/step - loss: 0.3506 - accuracy: 0.8548 - val_loss: 0.3357 - val_accuracy: 0.8591\n",
            "Epoch 81/150\n",
            "54/54 [==============================] - 0s 3ms/step - loss: 0.3473 - accuracy: 0.8571 - val_loss: 0.3393 - val_accuracy: 0.8580\n",
            "Epoch 82/150\n",
            "54/54 [==============================] - 0s 3ms/step - loss: 0.3357 - accuracy: 0.8657 - val_loss: 0.3375 - val_accuracy: 0.8626\n",
            "Epoch 83/150\n",
            "54/54 [==============================] - 0s 3ms/step - loss: 0.3483 - accuracy: 0.8533 - val_loss: 0.3342 - val_accuracy: 0.8610\n",
            "Epoch 84/150\n",
            "54/54 [==============================] - 0s 3ms/step - loss: 0.3308 - accuracy: 0.8672 - val_loss: 0.3361 - val_accuracy: 0.8618\n",
            "Epoch 85/150\n",
            "54/54 [==============================] - 0s 3ms/step - loss: 0.3371 - accuracy: 0.8546 - val_loss: 0.3363 - val_accuracy: 0.8622\n",
            "Epoch 86/150\n",
            "54/54 [==============================] - 0s 3ms/step - loss: 0.3350 - accuracy: 0.8647 - val_loss: 0.3397 - val_accuracy: 0.8614\n",
            "Epoch 87/150\n",
            "54/54 [==============================] - 0s 3ms/step - loss: 0.3333 - accuracy: 0.8621 - val_loss: 0.3369 - val_accuracy: 0.8603\n",
            "Epoch 88/150\n",
            "54/54 [==============================] - 0s 3ms/step - loss: 0.3287 - accuracy: 0.8679 - val_loss: 0.3381 - val_accuracy: 0.8663\n",
            "Epoch 89/150\n",
            "54/54 [==============================] - 0s 3ms/step - loss: 0.3417 - accuracy: 0.8656 - val_loss: 0.3396 - val_accuracy: 0.8599\n",
            "Epoch 90/150\n",
            "54/54 [==============================] - 0s 3ms/step - loss: 0.3422 - accuracy: 0.8556 - val_loss: 0.3341 - val_accuracy: 0.8614\n",
            "Epoch 91/150\n",
            "54/54 [==============================] - 0s 3ms/step - loss: 0.3345 - accuracy: 0.8671 - val_loss: 0.3365 - val_accuracy: 0.8614\n",
            "Epoch 92/150\n",
            "54/54 [==============================] - 0s 3ms/step - loss: 0.3488 - accuracy: 0.8559 - val_loss: 0.3325 - val_accuracy: 0.8626\n",
            "Epoch 93/150\n",
            "54/54 [==============================] - 0s 3ms/step - loss: 0.3408 - accuracy: 0.8599 - val_loss: 0.3326 - val_accuracy: 0.8610\n",
            "Epoch 94/150\n",
            "54/54 [==============================] - 0s 3ms/step - loss: 0.3426 - accuracy: 0.8543 - val_loss: 0.3333 - val_accuracy: 0.8614\n",
            "Epoch 95/150\n",
            "54/54 [==============================] - 0s 5ms/step - loss: 0.3486 - accuracy: 0.8525 - val_loss: 0.3364 - val_accuracy: 0.8599\n",
            "Epoch 96/150\n",
            "54/54 [==============================] - 0s 3ms/step - loss: 0.3318 - accuracy: 0.8609 - val_loss: 0.3327 - val_accuracy: 0.8595\n",
            "Epoch 97/150\n",
            "54/54 [==============================] - 0s 3ms/step - loss: 0.3331 - accuracy: 0.8629 - val_loss: 0.3333 - val_accuracy: 0.8610\n",
            "Epoch 98/150\n",
            "54/54 [==============================] - 0s 3ms/step - loss: 0.3351 - accuracy: 0.8627 - val_loss: 0.3331 - val_accuracy: 0.8622\n",
            "Epoch 99/150\n",
            "54/54 [==============================] - 0s 3ms/step - loss: 0.3514 - accuracy: 0.8534 - val_loss: 0.3377 - val_accuracy: 0.8603\n",
            "Epoch 100/150\n",
            "54/54 [==============================] - 0s 3ms/step - loss: 0.3461 - accuracy: 0.8586 - val_loss: 0.3354 - val_accuracy: 0.8610\n",
            "Epoch 101/150\n",
            "54/54 [==============================] - 0s 3ms/step - loss: 0.3426 - accuracy: 0.8641 - val_loss: 0.3351 - val_accuracy: 0.8580\n",
            "Epoch 102/150\n",
            "54/54 [==============================] - 0s 3ms/step - loss: 0.3367 - accuracy: 0.8610 - val_loss: 0.3350 - val_accuracy: 0.8610\n",
            "Epoch 103/150\n",
            "54/54 [==============================] - 0s 3ms/step - loss: 0.3466 - accuracy: 0.8547 - val_loss: 0.3348 - val_accuracy: 0.8603\n",
            "Epoch 104/150\n",
            "54/54 [==============================] - 0s 3ms/step - loss: 0.3301 - accuracy: 0.8638 - val_loss: 0.3354 - val_accuracy: 0.8610\n",
            "Epoch 105/150\n",
            "54/54 [==============================] - 0s 3ms/step - loss: 0.3403 - accuracy: 0.8591 - val_loss: 0.3354 - val_accuracy: 0.8614\n",
            "Epoch 106/150\n",
            "54/54 [==============================] - 0s 4ms/step - loss: 0.3434 - accuracy: 0.8591 - val_loss: 0.3335 - val_accuracy: 0.8607\n",
            "Epoch 107/150\n",
            "54/54 [==============================] - 0s 3ms/step - loss: 0.3314 - accuracy: 0.8690 - val_loss: 0.3315 - val_accuracy: 0.8644\n",
            "Epoch 108/150\n",
            "54/54 [==============================] - 0s 3ms/step - loss: 0.3256 - accuracy: 0.8702 - val_loss: 0.3332 - val_accuracy: 0.8618\n",
            "Epoch 109/150\n",
            "54/54 [==============================] - 0s 3ms/step - loss: 0.3404 - accuracy: 0.8600 - val_loss: 0.3366 - val_accuracy: 0.8584\n",
            "Epoch 110/150\n",
            "54/54 [==============================] - 0s 3ms/step - loss: 0.3460 - accuracy: 0.8600 - val_loss: 0.3354 - val_accuracy: 0.8618\n",
            "Epoch 111/150\n",
            "54/54 [==============================] - 0s 3ms/step - loss: 0.3442 - accuracy: 0.8582 - val_loss: 0.3364 - val_accuracy: 0.8603\n",
            "Epoch 112/150\n",
            "54/54 [==============================] - 0s 3ms/step - loss: 0.3377 - accuracy: 0.8601 - val_loss: 0.3390 - val_accuracy: 0.8599\n",
            "Epoch 113/150\n",
            "54/54 [==============================] - 0s 3ms/step - loss: 0.3265 - accuracy: 0.8645 - val_loss: 0.3393 - val_accuracy: 0.8622\n",
            "Epoch 114/150\n",
            "54/54 [==============================] - 0s 3ms/step - loss: 0.3218 - accuracy: 0.8698 - val_loss: 0.3349 - val_accuracy: 0.8610\n",
            "Epoch 115/150\n",
            "54/54 [==============================] - 0s 3ms/step - loss: 0.3391 - accuracy: 0.8543 - val_loss: 0.3352 - val_accuracy: 0.8599\n",
            "Epoch 116/150\n",
            "54/54 [==============================] - 0s 3ms/step - loss: 0.3377 - accuracy: 0.8575 - val_loss: 0.3359 - val_accuracy: 0.8618\n",
            "Epoch 117/150\n",
            "54/54 [==============================] - 0s 3ms/step - loss: 0.3453 - accuracy: 0.8551 - val_loss: 0.3388 - val_accuracy: 0.8599\n",
            "Epoch 118/150\n",
            "54/54 [==============================] - 0s 3ms/step - loss: 0.3419 - accuracy: 0.8654 - val_loss: 0.3360 - val_accuracy: 0.8603\n",
            "Epoch 119/150\n",
            "54/54 [==============================] - 0s 3ms/step - loss: 0.3215 - accuracy: 0.8719 - val_loss: 0.3354 - val_accuracy: 0.8614\n",
            "Epoch 120/150\n",
            "54/54 [==============================] - 0s 3ms/step - loss: 0.3288 - accuracy: 0.8642 - val_loss: 0.3359 - val_accuracy: 0.8607\n",
            "Epoch 121/150\n",
            "54/54 [==============================] - 0s 4ms/step - loss: 0.3455 - accuracy: 0.8610 - val_loss: 0.3364 - val_accuracy: 0.8618\n",
            "Epoch 122/150\n",
            "54/54 [==============================] - 0s 3ms/step - loss: 0.3405 - accuracy: 0.8561 - val_loss: 0.3323 - val_accuracy: 0.8641\n",
            "Epoch 123/150\n",
            "54/54 [==============================] - 0s 3ms/step - loss: 0.3241 - accuracy: 0.8672 - val_loss: 0.3367 - val_accuracy: 0.8607\n",
            "Epoch 124/150\n",
            "54/54 [==============================] - 0s 3ms/step - loss: 0.3362 - accuracy: 0.8590 - val_loss: 0.3355 - val_accuracy: 0.8603\n",
            "Epoch 125/150\n",
            "54/54 [==============================] - 0s 3ms/step - loss: 0.3261 - accuracy: 0.8718 - val_loss: 0.3393 - val_accuracy: 0.8603\n",
            "Epoch 126/150\n",
            "54/54 [==============================] - 0s 3ms/step - loss: 0.3269 - accuracy: 0.8642 - val_loss: 0.3380 - val_accuracy: 0.8610\n",
            "Epoch 127/150\n",
            "54/54 [==============================] - 0s 3ms/step - loss: 0.3402 - accuracy: 0.8592 - val_loss: 0.3364 - val_accuracy: 0.8614\n",
            "Epoch 128/150\n",
            "54/54 [==============================] - 0s 3ms/step - loss: 0.3202 - accuracy: 0.8700 - val_loss: 0.3375 - val_accuracy: 0.8618\n",
            "Epoch 129/150\n",
            "54/54 [==============================] - 0s 3ms/step - loss: 0.3277 - accuracy: 0.8693 - val_loss: 0.3395 - val_accuracy: 0.8629\n",
            "Epoch 130/150\n",
            "54/54 [==============================] - 0s 3ms/step - loss: 0.3246 - accuracy: 0.8679 - val_loss: 0.3361 - val_accuracy: 0.8607\n",
            "Epoch 131/150\n",
            "54/54 [==============================] - 0s 3ms/step - loss: 0.3403 - accuracy: 0.8603 - val_loss: 0.3377 - val_accuracy: 0.8614\n",
            "Epoch 132/150\n",
            "54/54 [==============================] - 0s 3ms/step - loss: 0.3197 - accuracy: 0.8685 - val_loss: 0.3398 - val_accuracy: 0.8607\n",
            "Epoch 133/150\n",
            "54/54 [==============================] - 0s 3ms/step - loss: 0.3489 - accuracy: 0.8566 - val_loss: 0.3363 - val_accuracy: 0.8614\n",
            "Epoch 134/150\n",
            "54/54 [==============================] - 0s 3ms/step - loss: 0.3288 - accuracy: 0.8647 - val_loss: 0.3403 - val_accuracy: 0.8626\n",
            "Epoch 135/150\n",
            "54/54 [==============================] - 0s 3ms/step - loss: 0.3375 - accuracy: 0.8591 - val_loss: 0.3364 - val_accuracy: 0.8618\n",
            "Epoch 136/150\n",
            "54/54 [==============================] - 0s 3ms/step - loss: 0.3309 - accuracy: 0.8683 - val_loss: 0.3366 - val_accuracy: 0.8629\n",
            "Epoch 137/150\n",
            "54/54 [==============================] - 0s 4ms/step - loss: 0.3313 - accuracy: 0.8613 - val_loss: 0.3416 - val_accuracy: 0.8603\n",
            "Epoch 138/150\n",
            "54/54 [==============================] - 0s 3ms/step - loss: 0.3391 - accuracy: 0.8577 - val_loss: 0.3418 - val_accuracy: 0.8599\n",
            "Epoch 139/150\n",
            "54/54 [==============================] - 0s 3ms/step - loss: 0.3398 - accuracy: 0.8604 - val_loss: 0.3385 - val_accuracy: 0.8644\n",
            "Epoch 140/150\n",
            "54/54 [==============================] - 0s 3ms/step - loss: 0.3253 - accuracy: 0.8684 - val_loss: 0.3420 - val_accuracy: 0.8595\n",
            "Epoch 141/150\n",
            "54/54 [==============================] - 0s 3ms/step - loss: 0.3259 - accuracy: 0.8673 - val_loss: 0.3376 - val_accuracy: 0.8622\n",
            "Epoch 142/150\n",
            "54/54 [==============================] - 0s 3ms/step - loss: 0.3281 - accuracy: 0.8667 - val_loss: 0.3435 - val_accuracy: 0.8591\n",
            "Epoch 143/150\n",
            "54/54 [==============================] - 0s 3ms/step - loss: 0.3472 - accuracy: 0.8589 - val_loss: 0.3420 - val_accuracy: 0.8595\n",
            "Epoch 144/150\n",
            "54/54 [==============================] - 0s 3ms/step - loss: 0.3204 - accuracy: 0.8714 - val_loss: 0.3380 - val_accuracy: 0.8591\n",
            "Epoch 145/150\n",
            "54/54 [==============================] - 0s 3ms/step - loss: 0.3335 - accuracy: 0.8650 - val_loss: 0.3382 - val_accuracy: 0.8603\n",
            "Epoch 146/150\n",
            "54/54 [==============================] - 0s 3ms/step - loss: 0.3376 - accuracy: 0.8626 - val_loss: 0.3388 - val_accuracy: 0.8584\n",
            "Epoch 147/150\n",
            "54/54 [==============================] - 0s 3ms/step - loss: 0.3405 - accuracy: 0.8554 - val_loss: 0.3404 - val_accuracy: 0.8599\n",
            "Epoch 148/150\n",
            "54/54 [==============================] - 0s 3ms/step - loss: 0.3398 - accuracy: 0.8629 - val_loss: 0.3429 - val_accuracy: 0.8607\n",
            "Epoch 149/150\n",
            "54/54 [==============================] - 0s 3ms/step - loss: 0.3262 - accuracy: 0.8646 - val_loss: 0.3414 - val_accuracy: 0.8591\n",
            "Epoch 150/150\n",
            "54/54 [==============================] - 0s 3ms/step - loss: 0.3422 - accuracy: 0.8597 - val_loss: 0.3430 - val_accuracy: 0.8576\n"
          ],
          "name": "stdout"
        }
      ]
    },
    {
      "cell_type": "code",
      "metadata": {
        "colab": {
          "base_uri": "https://localhost:8080/"
        },
        "id": "BxFpeqnyYT-E",
        "outputId": "f4c17486-d020-43db-ca42-ebde980ecd81"
      },
      "source": [
        "# list all data in history\r\n",
        "\r\n",
        "print(model_history.history.keys())"
      ],
      "execution_count": 28,
      "outputs": [
        {
          "output_type": "stream",
          "text": [
            "dict_keys(['loss', 'accuracy', 'val_loss', 'val_accuracy'])\n"
          ],
          "name": "stdout"
        }
      ]
    },
    {
      "cell_type": "code",
      "metadata": {
        "colab": {
          "base_uri": "https://localhost:8080/",
          "height": 295
        },
        "id": "Z2OCEW_AYki7",
        "outputId": "cfb8185a-e830-41dd-afff-ef066d505d63"
      },
      "source": [
        "plt.plot(model_history.history['loss'])\r\n",
        "plt.plot(model_history.history['val_loss'])\r\n",
        "plt.title('model_loss')\r\n",
        "plt.xlabel('epochs')\r\n",
        "plt.ylabel('loss')\r\n",
        "plt.legend(['train', 'test'], loc='upper left')\r\n",
        "plt.show()"
      ],
      "execution_count": 29,
      "outputs": [
        {
          "output_type": "display_data",
          "data": {
            "image/png": "[encoded data removed]",
            "text/plain": [
              "<Figure size 432x288 with 1 Axes>"
            ]
          },
          "metadata": {
            "tags": [],
            "needs_background": "light"
          }
        }
      ]
    },
    {
      "cell_type": "code",
      "metadata": {
        "id": "Yg4Akp76ZKO1"
      },
      "source": [
        "from sklearn.metrics import confusion_matrix, accuracy_score, f1_score\r\n",
        "\r\n",
        "y_pred = clf.predict(X_te)\r\n",
        "y_pred = y_pred > 0.5\r\n",
        "cm = confusion_matrix(y_te, y_pred)\r\n",
        "score = accuracy_score(y_te, y_pred)"
      ],
      "execution_count": 32,
      "outputs": []
    },
    {
      "cell_type": "code",
      "metadata": {
        "colab": {
          "base_uri": "https://localhost:8080/"
        },
        "id": "VVD40tsZcLL5",
        "outputId": "32fd7995-9a59-49e2-9831-70e65b08ebe7"
      },
      "source": [
        "cm"
      ],
      "execution_count": 33,
      "outputs": [
        {
          "output_type": "execute_result",
          "data": {
            "text/plain": [
              "array([[1556,   74],\n",
              "       [ 197,  173]])"
            ]
          },
          "metadata": {
            "tags": []
          },
          "execution_count": 33
        }
      ]
    },
    {
      "cell_type": "code",
      "metadata": {
        "colab": {
          "base_uri": "https://localhost:8080/"
        },
        "id": "GZKxHuKyceqS",
        "outputId": "c952030e-ec3a-4406-fc71-886e47aa0623"
      },
      "source": [
        "score"
      ],
      "execution_count": 34,
      "outputs": [
        {
          "output_type": "execute_result",
          "data": {
            "text/plain": [
              "0.8645"
            ]
          },
          "metadata": {
            "tags": []
          },
          "execution_count": 34
        }
      ]
    },
    {
      "cell_type": "code",
      "metadata": {
        "id": "aXHTjDmoch86"
      },
      "source": [
        ""
      ],
      "execution_count": null,
      "outputs": []
    }
  ]
}